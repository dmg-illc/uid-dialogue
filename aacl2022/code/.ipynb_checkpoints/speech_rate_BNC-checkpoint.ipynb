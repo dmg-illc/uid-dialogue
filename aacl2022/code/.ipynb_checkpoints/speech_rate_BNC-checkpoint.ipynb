{
 "cells": [
  {
   "cell_type": "code",
   "execution_count": 14,
   "id": "8c8d5148",
   "metadata": {},
   "outputs": [],
   "source": [
    "import argparse\n",
    "import logging\n",
    "import numpy as np\n",
    "import os\n",
    "import random\n",
    "import pandas as pd\n",
    "import datetime\n",
    "from tqdm.notebook import tqdm_notebook as tqdm\n",
    "logger = logging.getLogger(__name__)\n",
    "\n",
    "import sys\n",
    "sys.path.insert(1, '../src/')\n",
    "from BNC import Corpus"
   ]
  },
  {
   "cell_type": "code",
   "execution_count": 3,
   "id": "3f2d4602",
   "metadata": {},
   "outputs": [],
   "source": [
    "data_path = '../../../erp/data/bnc2014spoken-xml/spoken/'\n",
    "# out_path = '../../data/BNC-2014/two-speakers/analysis/dialign-format/'\n",
    "n_speakers = 2"
   ]
  },
  {
   "cell_type": "code",
   "execution_count": 4,
   "id": "78c9de6a",
   "metadata": {},
   "outputs": [
    {
     "name": "stderr",
     "output_type": "stream",
     "text": [
      "\r",
      "  0%|          | 0/1 [00:00<?, ?it/s]"
     ]
    },
    {
     "name": "stdout",
     "output_type": "stream",
     "text": [
      "Number of XML files: 1251\n"
     ]
    },
    {
     "name": "stderr",
     "output_type": "stream",
     "text": [
      "1251it [03:28,  6.00it/s]                    \n"
     ]
    }
   ],
   "source": [
    "logger.info('Load corpus from {}'.format(data_path))\n",
    "corpus = Corpus(\n",
    "    untagged_path=os.path.join(data_path, \"untagged\"),\n",
    "    tagged_path=os.path.join(data_path, \"tagged\")\n",
    ")\n"
   ]
  },
  {
   "cell_type": "code",
   "execution_count": 5,
   "id": "1e9a3c74",
   "metadata": {},
   "outputs": [],
   "source": [
    "conv_ids = []\n",
    "for conv_id, conv in corpus.conversations.items():\n",
    "    if conv.n_speakers == n_speakers:\n",
    "        conv_ids.append(conv_id)\n"
   ]
  },
  {
   "cell_type": "code",
   "execution_count": 6,
   "id": "dbe1918b",
   "metadata": {},
   "outputs": [
    {
     "data": {
      "text/plain": [
       "622"
      ]
     },
     "execution_count": 6,
     "metadata": {},
     "output_type": "execute_result"
    }
   ],
   "source": [
    "len(conv_ids)"
   ]
  },
  {
   "cell_type": "code",
   "execution_count": 20,
   "id": "9f198984",
   "metadata": {},
   "outputs": [],
   "source": [
    "def parse_time_string(time_string):\n",
    "    hours, minutes, seconds = time_string.strip().split(':')\n",
    "    total_seconds = int(hours) * 3600 + int(minutes) * 60 + int(seconds)\n",
    "    return total_seconds\n"
   ]
  },
  {
   "cell_type": "code",
   "execution_count": 31,
   "id": "b3004776",
   "metadata": {},
   "outputs": [],
   "source": [
    "time_token_ratios = []\n",
    "\n",
    "for conv_id in conv_ids:\n",
    "    rec_len = corpus.conversations[conv_id].rec_length\n",
    "    total_seconds = parse_time_string(rec_len)\n",
    "    \n",
    "#     print(total_seconds)\n",
    "    \n",
    "    total_tokens = 0\n",
    "    for u in corpus.conversations[conv_id].utterances:\n",
    "        if not u.sentence:\n",
    "            continue\n",
    "        for t in u.tokens:\n",
    "            total_tokens += 1\n",
    "            \n",
    "#     print(total_tokens)\n",
    "#     print()\n",
    "    time_token_ratios.append(total_tokens / total_seconds)\n"
   ]
  },
  {
   "cell_type": "code",
   "execution_count": 32,
   "id": "074efed3",
   "metadata": {},
   "outputs": [
    {
     "data": {
      "text/plain": [
       "3.157266192911002"
      ]
     },
     "execution_count": 32,
     "metadata": {},
     "output_type": "execute_result"
    }
   ],
   "source": [
    "np.mean(time_token_ratios)"
   ]
  },
  {
   "cell_type": "code",
   "execution_count": 30,
   "id": "b5ed17d6",
   "metadata": {},
   "outputs": [
    {
     "data": {
      "text/plain": [
       "47.35899289366503"
      ]
     },
     "execution_count": 30,
     "metadata": {},
     "output_type": "execute_result"
    }
   ],
   "source": [
    "15 * (np.mean(time_token_ratios))  # + np.std(time_token_ratios))"
   ]
  },
  {
   "cell_type": "code",
   "execution_count": null,
   "id": "5432b270",
   "metadata": {},
   "outputs": [],
   "source": []
  }
 ],
 "metadata": {
  "kernelspec": {
   "display_name": "Python 3 (ipykernel)",
   "language": "python",
   "name": "python3"
  },
  "language_info": {
   "codemirror_mode": {
    "name": "ipython",
    "version": 3
   },
   "file_extension": ".py",
   "mimetype": "text/x-python",
   "name": "python",
   "nbconvert_exporter": "python",
   "pygments_lexer": "ipython3",
   "version": "3.8.9"
  }
 },
 "nbformat": 4,
 "nbformat_minor": 5
}
