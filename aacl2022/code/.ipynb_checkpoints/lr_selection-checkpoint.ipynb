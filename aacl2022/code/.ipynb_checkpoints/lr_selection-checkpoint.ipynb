{
 "cells": [
  {
   "cell_type": "code",
   "execution_count": 1,
   "id": "fe74997a",
   "metadata": {},
   "outputs": [],
   "source": [
    "import numpy as np\n",
    "import pandas as pd\n",
    "from matplotlib import pyplot as plt"
   ]
  },
  {
   "cell_type": "code",
   "execution_count": 3,
   "id": "15dfe99a",
   "metadata": {},
   "outputs": [],
   "source": [
    "ppl128 = pd.read_csv('../../data/lr/gpt2_ctx128_bsz16_lr0.0001_epochs6/ppl_lr_selection.csv')\n",
    "ppl512 = pd.read_csv('../../data/lr/gpt2_ctx512_bsz4_lr0.0001_epochs6/ppl_lr_selection.csv')"
   ]
  },
  {
   "cell_type": "code",
   "execution_count": 4,
   "id": "c9e96d6c",
   "metadata": {},
   "outputs": [
    {
     "data": {
      "text/html": [
       "<div>\n",
       "<style scoped>\n",
       "    .dataframe tbody tr th:only-of-type {\n",
       "        vertical-align: middle;\n",
       "    }\n",
       "\n",
       "    .dataframe tbody tr th {\n",
       "        vertical-align: top;\n",
       "    }\n",
       "\n",
       "    .dataframe thead th {\n",
       "        text-align: right;\n",
       "    }\n",
       "</style>\n",
       "<table border=\"1\" class=\"dataframe\">\n",
       "  <thead>\n",
       "    <tr style=\"text-align: right;\">\n",
       "      <th></th>\n",
       "      <th>Dialogue ID</th>\n",
       "      <th>Learning rate</th>\n",
       "      <th>Train ppl before</th>\n",
       "      <th>Train ppl after</th>\n",
       "      <th>Eval ppl before</th>\n",
       "      <th>Eval ppl after</th>\n",
       "    </tr>\n",
       "  </thead>\n",
       "  <tbody>\n",
       "    <tr>\n",
       "      <th>0</th>\n",
       "      <td>SV2V</td>\n",
       "      <td>0.00001</td>\n",
       "      <td>162.647411</td>\n",
       "      <td>85.539330</td>\n",
       "      <td>161.943334</td>\n",
       "      <td>44.038193</td>\n",
       "    </tr>\n",
       "    <tr>\n",
       "      <th>1</th>\n",
       "      <td>SV2V</td>\n",
       "      <td>0.00010</td>\n",
       "      <td>162.647411</td>\n",
       "      <td>26.993965</td>\n",
       "      <td>161.943334</td>\n",
       "      <td>24.744092</td>\n",
       "    </tr>\n",
       "    <tr>\n",
       "      <th>2</th>\n",
       "      <td>SV2V</td>\n",
       "      <td>0.00100</td>\n",
       "      <td>162.647411</td>\n",
       "      <td>23.784752</td>\n",
       "      <td>161.943334</td>\n",
       "      <td>20.661451</td>\n",
       "    </tr>\n",
       "  </tbody>\n",
       "</table>\n",
       "</div>"
      ],
      "text/plain": [
       "  Dialogue ID  Learning rate  Train ppl before  Train ppl after  \\\n",
       "0        SV2V        0.00001        162.647411        85.539330   \n",
       "1        SV2V        0.00010        162.647411        26.993965   \n",
       "2        SV2V        0.00100        162.647411        23.784752   \n",
       "\n",
       "   Eval ppl before  Eval ppl after  \n",
       "0       161.943334       44.038193  \n",
       "1       161.943334       24.744092  \n",
       "2       161.943334       20.661451  "
      ]
     },
     "execution_count": 4,
     "metadata": {},
     "output_type": "execute_result"
    }
   ],
   "source": [
    "ppl128.head(3)"
   ]
  },
  {
   "cell_type": "code",
   "execution_count": 5,
   "id": "53ec1bae",
   "metadata": {},
   "outputs": [],
   "source": [
    "adapt_perf, gen_perf = [], []\n",
    "\n",
    "for _, row in ppl128.iterrows():\n",
    "    adapt_perf.append((row['Train ppl after'] - row['Train ppl before']) / row['Train ppl before'] * 100)\n",
    "    gen_perf.append((row['Eval ppl after'] - row['Eval ppl before']) / row['Eval ppl before'] * 100)\n",
    "\n",
    "ppl128['Adaptation perf'] = adapt_perf\n",
    "ppl128['Generalisation perf'] = gen_perf\n",
    "\n",
    "\n",
    "adapt_perf_, gen_perf_ = [], []\n",
    "\n",
    "for _, row in ppl512.iterrows():\n",
    "    adapt_perf_.append((row['Train ppl after'] - row['Train ppl before']) / row['Train ppl before'] * 100)\n",
    "    gen_perf_.append((row['Eval ppl after'] - row['Eval ppl before']) / row['Eval ppl before'] * 100)\n",
    "\n",
    "ppl512['Adaptation perf'] = adapt_perf_\n",
    "ppl512['Generalisation perf'] = gen_perf_\n"
   ]
  },
  {
   "cell_type": "code",
   "execution_count": 6,
   "id": "7dc90a9c",
   "metadata": {},
   "outputs": [
    {
     "data": {
      "text/html": [
       "<div>\n",
       "<style scoped>\n",
       "    .dataframe tbody tr th:only-of-type {\n",
       "        vertical-align: middle;\n",
       "    }\n",
       "\n",
       "    .dataframe tbody tr th {\n",
       "        vertical-align: top;\n",
       "    }\n",
       "\n",
       "    .dataframe thead th {\n",
       "        text-align: right;\n",
       "    }\n",
       "</style>\n",
       "<table border=\"1\" class=\"dataframe\">\n",
       "  <thead>\n",
       "    <tr style=\"text-align: right;\">\n",
       "      <th></th>\n",
       "      <th>Dialogue ID</th>\n",
       "      <th>Learning rate</th>\n",
       "      <th>Train ppl before</th>\n",
       "      <th>Train ppl after</th>\n",
       "      <th>Eval ppl before</th>\n",
       "      <th>Eval ppl after</th>\n",
       "      <th>Adaptation perf</th>\n",
       "      <th>Generalisation perf</th>\n",
       "    </tr>\n",
       "  </thead>\n",
       "  <tbody>\n",
       "    <tr>\n",
       "      <th>0</th>\n",
       "      <td>SV2V</td>\n",
       "      <td>0.00001</td>\n",
       "      <td>164.837554</td>\n",
       "      <td>80.202346</td>\n",
       "      <td>164.169647</td>\n",
       "      <td>38.147943</td>\n",
       "      <td>-51.344615</td>\n",
       "      <td>-76.763096</td>\n",
       "    </tr>\n",
       "    <tr>\n",
       "      <th>1</th>\n",
       "      <td>SV2V</td>\n",
       "      <td>0.00010</td>\n",
       "      <td>164.837554</td>\n",
       "      <td>26.611392</td>\n",
       "      <td>164.169647</td>\n",
       "      <td>24.734956</td>\n",
       "      <td>-83.855990</td>\n",
       "      <td>-84.933295</td>\n",
       "    </tr>\n",
       "    <tr>\n",
       "      <th>2</th>\n",
       "      <td>SV2V</td>\n",
       "      <td>0.00100</td>\n",
       "      <td>164.837554</td>\n",
       "      <td>24.028557</td>\n",
       "      <td>164.169647</td>\n",
       "      <td>20.823593</td>\n",
       "      <td>-85.422886</td>\n",
       "      <td>-87.315808</td>\n",
       "    </tr>\n",
       "  </tbody>\n",
       "</table>\n",
       "</div>"
      ],
      "text/plain": [
       "  Dialogue ID  Learning rate  Train ppl before  Train ppl after  \\\n",
       "0        SV2V        0.00001        164.837554        80.202346   \n",
       "1        SV2V        0.00010        164.837554        26.611392   \n",
       "2        SV2V        0.00100        164.837554        24.028557   \n",
       "\n",
       "   Eval ppl before  Eval ppl after  Adaptation perf  Generalisation perf  \n",
       "0       164.169647       38.147943       -51.344615           -76.763096  \n",
       "1       164.169647       24.734956       -83.855990           -84.933295  \n",
       "2       164.169647       20.823593       -85.422886           -87.315808  "
      ]
     },
     "execution_count": 6,
     "metadata": {},
     "output_type": "execute_result"
    }
   ],
   "source": [
    "ppl512.head(3)"
   ]
  },
  {
   "cell_type": "code",
   "execution_count": 7,
   "id": "19f0fbe8",
   "metadata": {},
   "outputs": [],
   "source": [
    "mean_perf128 = ppl128.groupby('Learning rate').agg({'Adaptation perf': 'mean', 'Generalisation perf': 'mean'})\n",
    "std_perf128 = ppl128.groupby('Learning rate').agg({'Adaptation perf': 'std', 'Generalisation perf': 'std'})\n",
    "\n",
    "mean_perf512 = ppl512.groupby('Learning rate').agg({'Adaptation perf': 'mean', 'Generalisation perf': 'mean'})\n",
    "std_perf512 = ppl512.groupby('Learning rate').agg({'Adaptation perf': 'std', 'Generalisation perf': 'std'})\n"
   ]
  },
  {
   "cell_type": "code",
   "execution_count": 16,
   "id": "cfdb036a",
   "metadata": {},
   "outputs": [],
   "source": [
    "mean_perf128 = mean_perf128.replace([np.inf, -np.inf], np.nan).dropna()"
   ]
  },
  {
   "cell_type": "code",
   "execution_count": 17,
   "id": "7fd4b8dc",
   "metadata": {},
   "outputs": [],
   "source": [
    "mean_perf512 = mean_perf512.replace([np.inf, -np.inf], np.nan).dropna()"
   ]
  },
  {
   "cell_type": "code",
   "execution_count": 18,
   "id": "9a92118e",
   "metadata": {},
   "outputs": [],
   "source": [
    "std_perf128 = std_perf128.dropna()"
   ]
  },
  {
   "cell_type": "code",
   "execution_count": 19,
   "id": "601c92c4",
   "metadata": {},
   "outputs": [],
   "source": [
    "std_perf512 = std_perf512.dropna()"
   ]
  },
  {
   "cell_type": "code",
   "execution_count": 24,
   "id": "7677d935",
   "metadata": {},
   "outputs": [
    {
     "data": {
      "image/png": "[encoded data removed]",
      "text/plain": [
       "<Figure size 432x720 with 1 Axes>"
      ]
     },
     "metadata": {
      "needs_background": "light"
     },
     "output_type": "display_data"
    }
   ],
   "source": [
    "fig, ax = plt.subplots()\n",
    "mean_perf128.plot(kind='bar', yerr=std_perf128, colormap='OrRd_r', edgecolor='black', \n",
    "               grid=False, figsize=(6,10), ax=ax, error_kw=dict(ecolor='black',elinewidth=0.8),width=0.8)\n",
    "plt.ylabel('$\\longleftarrow$ Change in perplexity (%)')\n",
    "plt.legend(['Adaptation', 'Generalisation'], loc='upper left')\n",
    "plt.title('GPT-2 finetuned w/ context length 128 and batch size 16')\n",
    "plt.savefig('../../figures/gpt2-w128-bsz16-cv.pdf')"
   ]
  },
  {
   "cell_type": "code",
   "execution_count": 25,
   "id": "97bca818",
   "metadata": {},
   "outputs": [
    {
     "data": {
      "image/png": "[encoded data removed]",
      "text/plain": [
       "<Figure size 432x720 with 1 Axes>"
      ]
     },
     "metadata": {
      "needs_background": "light"
     },
     "output_type": "display_data"
    }
   ],
   "source": [
    "fig, ax = plt.subplots()\n",
    "mean_perf512.plot(kind='bar', yerr=std_perf512, colormap='OrRd_r', edgecolor='black', \n",
    "               grid=False, figsize=(6,10), ax=ax, error_kw=dict(ecolor='black',elinewidth=0.8),width=0.8)\n",
    "plt.ylabel('$\\longleftarrow$ Change in perplexity (%)')\n",
    "plt.legend(['Adaptation', 'Generalisation'], loc='upper left')\n",
    "plt.title('GPT-2 finetuned w/ context length 512 and batch size 4')\n",
    "plt.savefig('../../figures/gpt2-w512-bsz4-cv.pdf')"
   ]
  },
  {
   "cell_type": "code",
   "execution_count": null,
   "id": "549380fc",
   "metadata": {},
   "outputs": [],
   "source": []
  }
 ],
 "metadata": {
  "kernelspec": {
   "display_name": "Python 3 (ipykernel)",
   "language": "python",
   "name": "python3"
  },
  "language_info": {
   "codemirror_mode": {
    "name": "ipython",
    "version": 3
   },
   "file_extension": ".py",
   "mimetype": "text/x-python",
   "name": "python",
   "nbconvert_exporter": "python",
   "pygments_lexer": "ipython3",
   "version": "3.8.9"
  }
 },
 "nbformat": 4,
 "nbformat_minor": 5
}
