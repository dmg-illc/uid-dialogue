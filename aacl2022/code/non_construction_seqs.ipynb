{
 "cells": [
  {
   "cell_type": "code",
   "execution_count": 4,
   "id": "4c08e125",
   "metadata": {},
   "outputs": [],
   "source": [
    "import json\n",
    "import numpy as np\n",
    "import pandas as pd\n",
    "from tqdm import tqdm\n",
    "from transformers import GPT2Tokenizer\n",
    "from nltk import ngrams\n",
    "from collections import defaultdict\n"
   ]
  },
  {
   "cell_type": "code",
   "execution_count": 5,
   "id": "b1de7ad8",
   "metadata": {},
   "outputs": [
    {
     "data": {
      "text/plain": [
       "186"
      ]
     },
     "execution_count": 5,
     "metadata": {},
     "output_type": "execute_result"
    }
   ],
   "source": [
    "with open('chains_all.json', 'r') as f:\n",
    "    chains = json.load(f)\n",
    "len(chains)\n"
   ]
  },
  {
   "cell_type": "code",
   "execution_count": 6,
   "id": "2d1d12cd",
   "metadata": {},
   "outputs": [
    {
     "name": "stdout",
     "output_type": "stream",
     "text": [
      "186 dialogues\n"
     ]
    }
   ],
   "source": [
    "df = pd.read_csv(\n",
    "    'surprisal_SBNC_gpt2_50_1e-3_agg.csv'\n",
    ")\n",
    "\n",
    "dialogue_ids = set(df['Dialogue ID'].tolist())\n",
    "print('{} dialogues'.format(len(dialogue_ids)))\n"
   ]
  },
  {
   "cell_type": "code",
   "execution_count": 7,
   "id": "1c5515e4",
   "metadata": {},
   "outputs": [],
   "source": [
    "def facilitating_effect(turn_surprisal_values, construction_indices, window=10):\n",
    "    start_constr, end_constr = construction_indices\n",
    "    \n",
    "    if window:\n",
    "        start_ctx = start_constr - window\n",
    "        if start_ctx < 0:\n",
    "            start_ctx = 0\n",
    "        end_ctx = end_constr + window\n",
    "        if end_ctx > len(turn_surprisal_values):\n",
    "            end_ctx = len(turn_surprisal_values)\n",
    "    else:\n",
    "        start_ctx = 0\n",
    "        end_ctx = len(turn_surprisal_values)\n",
    "        \n",
    "    indices_locus = [i for i in range(start_ctx, end_ctx) if i not in range(start_constr, end_constr)]\n",
    "    \n",
    "    if not indices_locus:\n",
    "        return 1.\n",
    "    \n",
    "    surprisal_wo_constr = np.mean(\n",
    "        [h for i, h in enumerate(turn_surprisal_values) if i in indices_locus]\n",
    "    )\n",
    "    surprisal_constr = np.mean(\n",
    "        [h for i, h in enumerate(turn_surprisal_values) if i in range(start_constr, end_constr)]\n",
    "    )\n",
    "    \n",
    "    return np.log2(surprisal_wo_constr / surprisal_constr)\n",
    "\n",
    "\n",
    "def std_surprisal(turn_surprisal_values, construction_indices, window=None):\n",
    "    start_constr, end_constr = construction_indices\n",
    "    surprisal_constr = np.mean(\n",
    "        [h for i, h in enumerate(turn_surprisal_values) if i in range(start_constr, end_constr)]\n",
    "    )\n",
    "    if window:\n",
    "        start_ctx = start_constr - window\n",
    "        if start_ctx < 0:\n",
    "            start_ctx = 0\n",
    "        end_ctx = end_constr + window\n",
    "        if end_ctx > len(turn_surprisal_values):\n",
    "            end_ctx = len(turn_surprisal_values)\n",
    "    else:\n",
    "        start_ctx = 0\n",
    "        end_ctx = len(turn_surprisal_values)\n",
    "        \n",
    "    mu = np.mean(turn_surprisal_values[start_ctx: end_ctx])\n",
    "    sigma = np.std(turn_surprisal_values[start_ctx: end_ctx])\n",
    "    \n",
    "    return (surprisal_constr - mu) / sigma\n",
    "\n",
    "\n",
    "def surprisal(turn_surprisal_values, construction_indices):\n",
    "    start_constr, end_constr = construction_indices\n",
    "    surprisal_constr = np.mean(\n",
    "        [h for i, h in enumerate(turn_surprisal_values) if i in range(start_constr, end_constr)]\n",
    "    )\n",
    "    return surprisal_constr\n",
    "\n"
   ]
  },
  {
   "cell_type": "code",
   "execution_count": 8,
   "id": "ed3db65b",
   "metadata": {},
   "outputs": [
    {
     "data": {
      "text/plain": [
       "[0.8792145973819913,\n",
       " 0.10414187491736084,\n",
       " 0.013073515800608225,\n",
       " 0.0030080655824408302,\n",
       " 0.0005619463175988365]"
      ]
     },
     "execution_count": 8,
     "metadata": {},
     "output_type": "execute_result"
    }
   ],
   "source": [
    "len_distr = {3: 53196, 4: 6301, 5: 791, 6: 182, 7: 34}\n",
    "n_types = sum(len_distr.values())\n",
    "len_p_distr = [x / n_types for x in len_distr.values()]\n",
    "len_p_distr\n"
   ]
  },
  {
   "cell_type": "code",
   "execution_count": 9,
   "id": "e6431a4e",
   "metadata": {},
   "outputs": [],
   "source": [
    "tokenizer = GPT2Tokenizer.from_pretrained('gpt2')\n"
   ]
  },
  {
   "cell_type": "code",
   "execution_count": 10,
   "id": "8851109e",
   "metadata": {},
   "outputs": [],
   "source": [
    "all_constructions = []\n",
    "for d_id in chains:\n",
    "    for constr in chains[d_id]:\n",
    "        constr_tokens_w_space = tokenizer.convert_ids_to_tokens(tokenizer(' ' + constr)['input_ids'])\n",
    "        constr_tokens_wo_space = tokenizer.convert_ids_to_tokens(tokenizer(constr)['input_ids'])\n",
    "        \n",
    "        if constr_tokens_w_space not in all_constructions:\n",
    "            all_constructions.append(constr_tokens_w_space)\n",
    "        \n",
    "        if constr_tokens_wo_space not in all_constructions:\n",
    "            all_constructions.append(constr_tokens_wo_space)\n"
   ]
  },
  {
   "cell_type": "code",
   "execution_count": null,
   "id": "06ed5067",
   "metadata": {
    "pycharm": {
     "is_executing": true
    }
   },
   "outputs": [],
   "source": [
    "seqs_s = defaultdict(list)\n",
    "seqs_fe = defaultdict(list)\n",
    "\n",
    "for _, row in tqdm(df.iterrows(), total=len(df)):\n",
    "    turn_tokens = eval(row['Tokens'])\n",
    "    if not turn_tokens:\n",
    "        print('skip')\n",
    "        continue\n",
    "    \n",
    "    tok_surprisal = eval(row['Surprisal'])\n",
    "    assert len(tok_surprisal) == len(turn_tokens)\n",
    "    \n",
    "    for n in range(3, 8):\n",
    "        for _range in list(ngrams(range(len(turn_tokens)), n)):\n",
    "            start, end = _range[0], _range[-1] + 1\n",
    "            \n",
    "            seq = turn_tokens[start: end]\n",
    "\n",
    "            if seq in all_constructions:\n",
    "                continue\n",
    "\n",
    "            fe = facilitating_effect(tok_surprisal, (start, end), window=None)\n",
    "            s = surprisal(tok_surprisal, (start, end))\n",
    "            \n",
    "            seqs_fe[n].append(fe)\n",
    "            seqs_s[n].append(s)\n",
    "            \n"
   ]
  },
  {
   "cell_type": "code",
   "execution_count": null,
   "id": "ec3b56ed",
   "metadata": {},
   "outputs": [],
   "source": [
    "for seed in [4, 6, 13, 17, 95]:\n",
    "    np.random.seed(seed)\n",
    "    samples_fe = {}\n",
    "    samples_s = {}\n",
    "\n",
    "    for n in range(3, 8):\n",
    "        print(n)\n",
    "        assert len(seqs_fe[n]) == len(seqs_s[n])\n",
    "        print('Sample...')\n",
    "        indices = np.random.choice(len(seqs_fe[n]), len_distr[n], replace=False)\n",
    "        print(len_distr[n], len(indices), len(seqs_fe[n]))\n",
    "\n",
    "        samples_fe[n] = [_fe for i, _fe in enumerate(seqs_fe[n]) if i in indices]\n",
    "        samples_s[n] = [_s for i, _s in enumerate(seqs_s[n]) if i in indices]\n",
    "\n",
    "        print(len(samples_fe[n]), len(samples_s[n]))\n",
    "        print()\n",
    "    seq_dataset = []\n",
    "    for n in range(3, 8):\n",
    "        assert len(samples_fe[n]) == len(samples_s[n])\n",
    "        for sample in zip(samples_fe[n], samples_s[n]):\n",
    "            seq_dataset.append((\n",
    "                n,\n",
    "                sample[0],\n",
    "                sample[1]\n",
    "            ))\n",
    "\n",
    "    seq_df = pd.DataFrame(seq_dataset, columns=['Length', 'FE', 'S'])\n",
    "\n",
    "#     seq_df.to_csv('non-constructions_all_{}.csv'.format(seed))\n",
    "    "
   ]
  },
  {
   "cell_type": "code",
   "execution_count": null,
   "id": "ca13899c",
   "metadata": {},
   "outputs": [],
   "source": [
    "for n in range(3, 8):\n",
    "    print('-- {} --'.format(n))\n",
    "    print('FE: {:.2f} ± {:.2f}'.format(np.mean(samples_fe[n]), np.std(samples_fe[n])))\n",
    "    print(' S: {:.2f} ± {:.2f}'.format(np.mean(samples_s[n]), np.std(samples_s[n])))\n",
    "    print()"
   ]
  },
  {
   "cell_type": "code",
   "execution_count": null,
   "id": "b3073ab7",
   "metadata": {},
   "outputs": [],
   "source": [
    "seq_df['FE'].mean(), seq_df['FE'].std(), seq_df['FE'].median()"
   ]
  },
  {
   "cell_type": "code",
   "execution_count": null,
   "id": "366660eb",
   "metadata": {},
   "outputs": [],
   "source": [
    "seq_df['S'].mean(), seq_df['S'].std(), seq_df['S'].median()"
   ]
  },
  {
   "cell_type": "code",
   "execution_count": null,
   "id": "34e83aab",
   "metadata": {},
   "outputs": [],
   "source": [
    "seq_df.to_csv('non-constructions.csv')"
   ]
  },
  {
   "cell_type": "code",
   "execution_count": null,
   "id": "90b66e63",
   "metadata": {},
   "outputs": [],
   "source": []
  }
 ],
 "metadata": {
  "kernelspec": {
   "display_name": "Python 3 (ipykernel)",
   "language": "python",
   "name": "python3"
  },
  "language_info": {
   "codemirror_mode": {
    "name": "ipython",
    "version": 3
   },
   "file_extension": ".py",
   "mimetype": "text/x-python",
   "name": "python",
   "nbconvert_exporter": "python",
   "pygments_lexer": "ipython3",
   "version": "3.8.9"
  }
 },
 "nbformat": 4,
 "nbformat_minor": 5
}
