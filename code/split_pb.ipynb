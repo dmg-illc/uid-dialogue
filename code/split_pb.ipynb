{
 "cells": [
  {
   "cell_type": "code",
   "execution_count": null,
   "metadata": {},
   "outputs": [],
   "source": [
    "import numpy as np\n",
    "import pandas as pd\n",
    "import random\n",
    "import math\n",
    "import os\n",
    "import json\n",
    "from pb_processor import Log"
   ]
  },
  {
   "cell_type": "code",
   "execution_count": null,
   "metadata": {},
   "outputs": [],
   "source": [
    "def load_logs(dir_path):\n",
    "    print('>> Loading logs from \"{}\"'.format(dir_path))\n",
    "\n",
    "    file_count = 0\n",
    "    for _, _, files in os.walk(dir_path):\n",
    "        for file in files:\n",
    "            file_count += int(file.endswith('.json'))\n",
    "    print('{} files found.'.format(file_count))\n",
    "\n",
    "    logs = {}\n",
    "    for root, _, files in os.walk(dir_path):\n",
    "        for file in files:\n",
    "            if file.endswith('.json'):\n",
    "                with open(os.path.join(root, file), 'r') as logfile:\n",
    "                    log = Log(json.load(logfile))\n",
    "                    if log.complete:\n",
    "                        logs[log.game_id] = log\n",
    "\n",
    "    print('DONE. Loaded {} completed game logs.'.format(len(logs)))\n",
    "    return logs"
   ]
  },
  {
   "cell_type": "code",
   "execution_count": null,
   "metadata": {},
   "outputs": [],
   "source": [
    "logs = load_logs('downloaded_data/photobook/logs/')"
   ]
  },
  {
   "cell_type": "code",
   "execution_count": null,
   "metadata": {},
   "outputs": [],
   "source": [
    "_ids = sorted(logs.keys())\n",
    "\n",
    "train, val = np.split(np.array(_ids), \n",
    "         [math.ceil((len(_ids) / 100 * 70))]\n",
    ")\n",
    "len(train) / len(_ids), len(val) / len(_ids)"
   ]
  },
  {
   "cell_type": "code",
   "execution_count": null,
   "metadata": {},
   "outputs": [],
   "source": [
    "for IDS, SPLIT in [(val, 'analysis'), (train, 'train')]:\n",
    "\n",
    "    utterances = []\n",
    "    indices_in_game = []\n",
    "    indices_in_round = []\n",
    "    round_numbers = []\n",
    "    game_ids = []\n",
    "    speakers = []\n",
    "    game_scores = []\n",
    "    round_scores = []\n",
    "    game_durations = []\n",
    "    round_durations = []\n",
    "\n",
    "    for game_id, game in logs.items():\n",
    "\n",
    "        if game_id not in IDS:\n",
    "            continue\n",
    "\n",
    "        idx_in_game = 1\n",
    "        for round_nr, round in enumerate(game.rounds, start=1):\n",
    "            idx_in_round = 1\n",
    "            for msg in round.messages:\n",
    "                if msg.type != 'text':\n",
    "                    continue\n",
    "                utterance = msg.text.strip()\n",
    "                if not utterance:\n",
    "                    continue\n",
    "\n",
    "                utterances.append(utterance)\n",
    "                indices_in_game.append(idx_in_game)\n",
    "                indices_in_round.append(idx_in_round)\n",
    "                round_numbers.append(round_nr)\n",
    "                game_ids.append(game_id)\n",
    "                speakers.append(msg.speaker)\n",
    "                game_scores.append(game.total_score)\n",
    "                round_scores.append(round.total_score)\n",
    "                game_durations.append(game.duration)\n",
    "                round_durations.append(round.duration)\n",
    "\n",
    "                idx_in_game += 1\n",
    "                idx_in_round += 1\n",
    "\n",
    "    dataset = list(zip(game_ids, speakers, indices_in_game, indices_in_round, round_numbers, utterances,\n",
    "                       game_scores, round_scores, game_durations, round_durations))\n",
    "    dataframe = pd.DataFrame(\n",
    "        dataset,\n",
    "        columns=['dialogue_id', 'speaker', 'position_in_dialogue', 'position_in_round', 'round_number', 'text',\n",
    "                 'game_score', 'round_score', 'game_duration', 'round_duration']\n",
    "    )\n",
    "    \n",
    "    dataframe.to_csv('downloaded_data/photobook/{}.csv'.format(SPLIT), index=False)"
   ]
  },
  {
   "cell_type": "code",
   "execution_count": null,
   "metadata": {},
   "outputs": [],
   "source": [
    "len(val), len(train)  # number of games"
   ]
  },
  {
   "cell_type": "code",
   "execution_count": null,
   "metadata": {},
   "outputs": [],
   "source": []
  }
 ],
 "metadata": {
  "kernelspec": {
   "display_name": "Python 3",
   "language": "python",
   "name": "python3"
  },
  "language_info": {
   "codemirror_mode": {
    "name": "ipython",
    "version": 3
   },
   "file_extension": ".py",
   "mimetype": "text/x-python",
   "name": "python",
   "nbconvert_exporter": "python",
   "pygments_lexer": "ipython3",
   "version": "3.7.4"
  }
 },
 "nbformat": 4,
 "nbformat_minor": 4
}
