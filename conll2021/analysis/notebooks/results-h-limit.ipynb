{
 "cells": [
  {
   "cell_type": "code",
   "execution_count": null,
   "id": "0837823d",
   "metadata": {},
   "outputs": [],
   "source": [
    "import pandas as pd\n",
    "import numpy as np\n",
    "from matplotlib import pyplot as plt\n",
    "import seaborn as sns\n",
    "\n",
    "sns.set_style(\"whitegrid\")\n",
    "sns.set(rc={'figure.figsize':(10,5)})"
   ]
  },
  {
   "cell_type": "markdown",
   "id": "604e3d3f-4aa2-4c91-a85c-2af6540f6af7",
   "metadata": {},
   "source": [
    "# Penn Treebank"
   ]
  },
  {
   "cell_type": "code",
   "execution_count": null,
   "id": "e4a0ec54",
   "metadata": {},
   "outputs": [],
   "source": [
    "ptb = pd.read_csv('../results_conll/mi/ptb_gpt2-ft.csv').dropna()\n",
    "pb = pd.read_csv('../results_conll/mi/pb_gpt2-ft.csv').dropna()\n",
    "bncs = pd.read_csv('../results_conll/mi/bnc_spoken_gpt2-ft.csv').dropna()\n"
   ]
  },
  {
   "cell_type": "code",
   "execution_count": null,
   "id": "9a4d6179-01b9-4fc6-a8c4-df0a1139716e",
   "metadata": {},
   "outputs": [],
   "source": [
    "sns.set_style(\"whitegrid\")\n",
    "sns_plot = sns.lineplot(data=ptb,\n",
    "             x=\"position_in_doc\", y=\"normalised_h\", label='$H(S)$', color='goldenrod')\n",
    "\n",
    "sns_plot = sns.lineplot(data=ptb,\n",
    "             x=\"position_in_doc\", y=\"normalised_h_doc\", label='$H(S|C)$', color='teal')\n",
    "\n",
    "plt.fill_between(range(1, ptb['position_in_doc'].max() + 1), \n",
    "                 ptb.groupby('position_in_doc').mean()['normalised_h'], \n",
    "                 ptb.groupby('position_in_doc').mean()['normalised_h_doc'],\n",
    "                 hatch='|',\n",
    "                 alpha = 0.4,\n",
    "                 color='coral',\n",
    "                 facecolor='white',\n",
    "                 label='$I(S;C)$'\n",
    "                )\n",
    "\n",
    "plt.xlabel(\"Sentence position\")\n",
    "plt.ylabel(\"Bits\")\n",
    "plt.legend(loc='upper left')\n",
    "sns.despine(left=True)\n",
    "plt.tight_layout()\n",
    "sns.set(font_scale = 2)\n",
    "\n",
    "plt.savefig('/Users/mario/code/erp-paper/conll2021/figures/wlimit/ptb-doc.pdf')"
   ]
  },
  {
   "cell_type": "code",
   "execution_count": null,
   "id": "2bc27a33-0838-4c12-8427-6311a0b3df02",
   "metadata": {},
   "outputs": [],
   "source": [
    "sns.set_style(\"whitegrid\")\n",
    "sns_plot = sns.lineplot(data=ptb,\n",
    "             x=\"position_in_doc\", y=\"mi_doc\", color='coral')\n",
    "\n",
    "plt.xlabel(\"Sentence position\")\n",
    "plt.ylabel(\"Bits\")\n",
    "sns.despine(left=True)\n",
    "sns.set(font_scale = 1.5)\n",
    "\n",
    "plt.savefig('/Users/mario/code/erp-paper/conll2021/figures/wlimit/ptb-doc-mi.pdf')"
   ]
  },
  {
   "cell_type": "markdown",
   "id": "972f91ab-20b0-4aa6-8c5a-b057b2e542cf",
   "metadata": {},
   "source": [
    "----"
   ]
  },
  {
   "cell_type": "markdown",
   "id": "3132437b-298f-4590-b70e-f547c64c0452",
   "metadata": {},
   "source": [
    "# Photobook"
   ]
  },
  {
   "cell_type": "code",
   "execution_count": null,
   "id": "ba38cce0-1a0c-44de-a49d-fd6548ee4cb1",
   "metadata": {},
   "outputs": [],
   "source": [
    "sns.set_style(\"whitegrid\")\n",
    "sns_plot = sns.lineplot(data=pb,\n",
    "             x=\"position_in_dialogue\", y=\"normalised_h\", label='$H(S)$', color='goldenrod')\n",
    "\n",
    "sns_plot = sns.lineplot(data=pb,\n",
    "             x=\"position_in_dialogue\", y=\"normalised_h_doc\", label='$H(S|C)$', color='teal')\n",
    "\n",
    "plt.fill_between(range(1, pb['position_in_dialogue'].max() + 1), \n",
    "                 pb.groupby('position_in_dialogue').mean()['normalised_h'], \n",
    "                 pb.groupby('position_in_dialogue').mean()['normalised_h_doc'],\n",
    "                 hatch='|',\n",
    "                 alpha = 0.4,\n",
    "                 color='coral',\n",
    "                 facecolor='white',\n",
    "                 label='$I(S;C)$'\n",
    "                )\n",
    "\n",
    "plt.xlabel(\"Sentence position\")\n",
    "plt.ylabel(\"Bits\")\n",
    "plt.legend(loc='upper left')\n",
    "sns.despine(left=True)\n",
    "plt.tight_layout()\n",
    "sns.set(font_scale = 2)\n",
    "\n",
    "plt.savefig('/Users/mario/code/erp-paper/conll2021/figures/wlimit/pb-doc.pdf')"
   ]
  },
  {
   "cell_type": "code",
   "execution_count": null,
   "id": "ab6c4a5a-b484-4a55-b04b-c1cbb7df81db",
   "metadata": {},
   "outputs": [],
   "source": [
    "sns.set_style(\"whitegrid\")\n",
    "sns_plot = sns.lineplot(data=pb,\n",
    "             x=\"position_in_dialogue\", y=\"mi_doc\", color='coral')\n",
    "\n",
    "plt.xlabel(\"Sentence position\")\n",
    "plt.ylabel(\"Bits\")\n",
    "sns.despine(left=True)\n",
    "sns.set(font_scale = 1.5)\n",
    "\n",
    "plt.savefig('/Users/mario/code/erp-paper/conll2021/figures/wlimit/pb-doc-mi.pdf')"
   ]
  },
  {
   "cell_type": "markdown",
   "id": "0f4a3764-1b1b-4a39-b838-fdbd74911be0",
   "metadata": {},
   "source": [
    "---"
   ]
  },
  {
   "cell_type": "markdown",
   "id": "78deab40-3512-4007-8415-d91fd095769f",
   "metadata": {},
   "source": [
    "# Spoken BNC"
   ]
  },
  {
   "cell_type": "code",
   "execution_count": null,
   "id": "0c16ea1f-dc5b-47c9-a5c5-e763cd82c763",
   "metadata": {},
   "outputs": [],
   "source": [
    "sns.set_style(\"whitegrid\")\n",
    "sns_plot = sns.lineplot(data=bncs,\n",
    "             x=\"position\", y=\"normalised_h\", label='$H(S)$', color='goldenrod')\n",
    "\n",
    "sns_plot = sns.lineplot(data=bncs,\n",
    "             x=\"position\", y=\"normalised_h_doc\", label='$H(S|C)$', color='teal')\n",
    "\n",
    "plt.fill_between(range(1, bncs['position'].max() + 1), \n",
    "                 bncs.groupby('position').mean()['normalised_h'], \n",
    "                 bncs.groupby('position').mean()['normalised_h_doc'],\n",
    "                 hatch='|',\n",
    "                 alpha = 0.4,\n",
    "                 color='coral',\n",
    "                 facecolor='white',\n",
    "                 label='$I(S;C)$'\n",
    "                )\n",
    "\n",
    "plt.xlabel(\"Sentence position\")\n",
    "plt.ylabel(\"Bits\")\n",
    "plt.legend(loc='upper right')\n",
    "sns.despine(left=True)\n",
    "sns.set(font_scale = 2)\n",
    "plt.tight_layout()\n",
    "\n",
    "plt.savefig('/Users/mario/code/erp-paper/conll2021/figures/wlimit/bncs-doc.pdf')"
   ]
  },
  {
   "cell_type": "code",
   "execution_count": null,
   "id": "8526ec84-f911-4737-91c4-917aa509b68a",
   "metadata": {},
   "outputs": [],
   "source": [
    "sns.set_style(\"whitegrid\")\n",
    "sns_plot = sns.lineplot(data=bncs,\n",
    "             x=\"position\", y=\"mi_doc\", color='coral')\n",
    "\n",
    "plt.xlabel(\"Sentence position\")\n",
    "plt.ylabel(\"Bits\")\n",
    "sns.despine(left=True)\n",
    "sns.set(font_scale = 1.5)\n",
    "\n",
    "plt.savefig('/Users/mario/code/erp-paper/conll2021/figures/wlimit/bncs-doc-mi.pdf')"
   ]
  },
  {
   "cell_type": "code",
   "execution_count": null,
   "id": "3aa38b2a-c993-4417-86b6-a47307eea43e",
   "metadata": {},
   "outputs": [],
   "source": []
  }
 ],
 "metadata": {
  "kernelspec": {
   "display_name": "Python 3",
   "language": "python",
   "name": "python3"
  },
  "language_info": {
   "codemirror_mode": {
    "name": "ipython",
    "version": 3
   },
   "file_extension": ".py",
   "mimetype": "text/x-python",
   "name": "python",
   "nbconvert_exporter": "python",
   "pygments_lexer": "ipython3",
   "version": "3.8.5"
  }
 },
 "nbformat": 4,
 "nbformat_minor": 5
}
