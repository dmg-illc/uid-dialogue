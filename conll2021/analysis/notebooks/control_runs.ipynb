{
 "cells": [
  {
   "cell_type": "code",
   "execution_count": null,
   "id": "7d5157e9-ab30-4d5c-abb6-1c2bfe8e4b6d",
   "metadata": {},
   "outputs": [],
   "source": [
    "import pandas as pd\n",
    "import numpy as np\n",
    "from matplotlib import pyplot as plt\n",
    "import seaborn as sns\n",
    "\n",
    "sns.set_style(\"whitegrid\")\n",
    "sns.set(rc={'figure.figsize':(10,5)})"
   ]
  },
  {
   "cell_type": "markdown",
   "id": "25a4635d-79f4-457d-a618-ff478ffc03c6",
   "metadata": {},
   "source": [
    "# Penn Treebank"
   ]
  },
  {
   "cell_type": "code",
   "execution_count": null,
   "id": "08e55e6f-6689-4701-a15b-aef4f64dfaed",
   "metadata": {},
   "outputs": [],
   "source": [
    "ptb = pd.read_csv('../results_conll/mi/ptb_gpt2-ft.csv')\n",
    "ptb_ctrl1 = pd.read_csv('../results_conll/hc-limit/control/ptb_ctrl_ptb_gpt2-ft_42/estimates.csv')\n",
    "ptb_ctrl2 = pd.read_csv('../results_conll/hc-limit/control/ptb_ctrl_news_gpt2-ft_42/estimates.csv')\n",
    "ptb_ctrl3 = pd.read_csv('../results_conll/hc-limit/control/ptb_ctrl_fiction_gpt2-ft_42/estimates.csv')"
   ]
  },
  {
   "cell_type": "code",
   "execution_count": null,
   "id": "755438b0-5af0-47e2-a668-35a37ec633b5",
   "metadata": {},
   "outputs": [],
   "source": [
    "# Document\n",
    "sns.set_style(\"whitegrid\")\n",
    "\n",
    "sns_plot = sns.lineplot(data=ptb_ctrl2,\n",
    "             x=\"position_in_doc\", y=\"normalised_h\", legend=False, alpha=0.3, color='slategrey', \n",
    "                        label='$H(S|C_{ctrl})$')\n",
    "\n",
    "sns_plot = sns.lineplot(data=ptb_ctrl3,\n",
    "             x=\"position_in_doc\", y=\"normalised_h\", legend=False, alpha=0.3, color='lightskyblue', \n",
    "                        label='')\n",
    "\n",
    "sns_plot = sns.lineplot(data=ptb_ctrl1,\n",
    "             x=\"position_in_doc\", y=\"normalised_h\", legend=False, alpha=0.3, color='lightsteelblue', \n",
    "                        label='')\n",
    "\n",
    "sns_plot = sns.lineplot(data=ptb,\n",
    "                        x=\"position_in_doc\", y=\"normalised_h\", legend=False, color='goldenrod', \n",
    "                        ci=0, linestyle='--', label='$H(S)$')\n",
    "\n",
    "sns_plot = sns.lineplot(data=ptb,\n",
    "                        x=\"position_in_doc\", y=\"normalised_h_doc\", legend=False, color='teal', \n",
    "                        label='$H(S|C_{true})$')\n",
    "\n",
    "fig = sns_plot.get_figure()\n",
    "sns.despine(left=True)\n",
    "sns.set(font_scale = 1.5)\n",
    "plt.legend(loc='upper left')\n",
    "plt.xlabel(\"Sentence position\")\n",
    "plt.ylabel(\"Bits\")\n",
    "\n",
    "# plt.show() \n",
    "plt.savefig('/Users/mario/code/erp-paper/conll2021/figures/wlimit/ptb-doc-ctrl.pdf')\n"
   ]
  },
  {
   "cell_type": "markdown",
   "id": "9c5679ca-bd74-4fb1-86d9-02c0ddb9c54c",
   "metadata": {},
   "source": [
    "# PhotoBook"
   ]
  },
  {
   "cell_type": "code",
   "execution_count": null,
   "id": "1ddfa153-7d6e-457c-be6b-628719aba58e",
   "metadata": {},
   "outputs": [],
   "source": [
    "pb = pd.read_csv('../results_conll/mi/pb_gpt2-ft.csv')\n",
    "pb_ctrl1 = pd.read_csv('../results_conll/hc-limit/control/pb_ctrl_pb_gpt2-ft_42/estimates.csv')\n",
    "pb_ctrl2 = pd.read_csv('../results_conll/hc-limit/control/pb_ctrl_bncs_gpt2-ft_42/estimates.csv')\n",
    "pb_ctrl3 = pd.read_csv('../results_conll/hc-limit/control/pb_ctrl_bncs_gpt2-ft_42/estimates.csv')"
   ]
  },
  {
   "cell_type": "code",
   "execution_count": null,
   "id": "872b5d5c-f75c-401e-803d-dbc860258c32",
   "metadata": {},
   "outputs": [],
   "source": [
    "# Document\n",
    "sns.set_style(\"whitegrid\")\n",
    "sns_plot = sns.lineplot(data=pb_ctrl1,\n",
    "             x=\"position_in_dialogue\", y=\"normalised_h\", legend=False, alpha=0.3, color='slategrey', \n",
    "                        label='$H(S|C_{ctrl})$')\n",
    "\n",
    "sns_plot = sns.lineplot(data=pb_ctrl3,\n",
    "             x=\"position_in_dialogue\", y=\"normalised_h\", legend=False, alpha=0.3, color='lightskyblue', \n",
    "                        label='')\n",
    "\n",
    "sns_plot = sns.lineplot(data=pb_ctrl1,\n",
    "             x=\"position_in_dialogue\", y=\"normalised_h\", legend=False, alpha=0.3, color='lightsteelblue', \n",
    "                        label='')\n",
    "\n",
    "sns_plot = sns.lineplot(data=pb,\n",
    "                        x=\"position_in_dialogue\", y=\"normalised_h\", legend=False, color='goldenrod', \n",
    "                        ci=0, linestyle='--', label='$H(S)$')\n",
    "\n",
    "sns_plot = sns.lineplot(data=pb,\n",
    "                        x=\"position_in_dialogue\", y=\"normalised_h_doc\", legend=False, color='teal', \n",
    "                        label='$H(S|C_{true})$')\n",
    "\n",
    "fig = sns_plot.get_figure()\n",
    "sns.despine(left=True)\n",
    "sns.set(font_scale = 1.5)\n",
    "plt.legend(loc='upper left')\n",
    "plt.xlabel(\"Sentence position\")\n",
    "plt.ylabel(\"Bits\")\n",
    "\n",
    "# plt.show() \n",
    "plt.savefig('/Users/mario/code/erp-paper/conll2021/figures/wlimit/pb-doc-ctrl.pdf')\n",
    "\n"
   ]
  },
  {
   "cell_type": "markdown",
   "id": "2d94303c-14d3-4aec-af1c-6c357ba9d421",
   "metadata": {},
   "source": [
    "# Spoken BNC"
   ]
  },
  {
   "cell_type": "code",
   "execution_count": null,
   "id": "c42385d9-1c2f-4ec7-a75e-fc540113e85c",
   "metadata": {},
   "outputs": [],
   "source": [
    "bncs = pd.read_csv('../results_conll/mi/bnc_spoken_gpt2-ft.csv')\n",
    "bncs_ctrl1 = pd.read_csv('../results_conll/hc-limit/control/bncs_ctrl_pb_gpt2-ft_42/estimates.csv')\n",
    "bncs_ctrl2 = pd.read_csv('../results_conll/hc-limit/control/bncs_ctrl_pb_gpt2-ft_13/estimates.csv')\n",
    "bncs_ctrl3 = pd.read_csv('../results_conll/hc-limit/control/bncs_ctrl_bncs_gpt2-ft_42/estimates.csv')"
   ]
  },
  {
   "cell_type": "code",
   "execution_count": null,
   "id": "25ee3e8c-e01a-46aa-aa7c-36ca595d1402",
   "metadata": {},
   "outputs": [],
   "source": [
    "# Document\n",
    "sns.set_style(\"whitegrid\")\n",
    "sns_plot = sns.lineplot(data=bncs_ctrl1,\n",
    "             x=\"position\", y=\"normalised_h\", legend=False, alpha=0.3, color='slategrey', \n",
    "                        label='$H(S|C_{ctrl})$')\n",
    "\n",
    "sns_plot = sns.lineplot(data=bncs_ctrl2,\n",
    "             x=\"position\", y=\"normalised_h\", legend=False, alpha=0.3, color='lightskyblue', \n",
    "                        label='')\n",
    "\n",
    "sns_plot = sns.lineplot(data=bncs_ctrl3,\n",
    "             x=\"position\", y=\"normalised_h\", legend=False, alpha=0.3, color='lightsteelblue', \n",
    "                        label='')\n",
    "\n",
    "sns_plot = sns.lineplot(data=bncs,\n",
    "                        x=\"position\", y=\"normalised_h\", legend=False, color='goldenrod', \n",
    "                        ci=0, linestyle='--', label='$H(S)$')\n",
    "\n",
    "sns_plot = sns.lineplot(data=bncs,\n",
    "                        x=\"position\", y=\"normalised_h_doc\", legend=False, color='teal', \n",
    "                        label='$H(S|C_{true})$')\n",
    "\n",
    "fig = sns_plot.get_figure()\n",
    "sns.despine(left=True)\n",
    "sns.set(font_scale = 1.5)\n",
    "plt.legend(loc='upper left')\n",
    "plt.xlabel(\"Sentence position\")\n",
    "plt.ylabel(\"Bits\")\n",
    "\n",
    "# plt.show() \n",
    "plt.savefig('/Users/mario/code/erp-paper/conll2021/figures/wlimit/bncs-doc-ctrl.pdf')\n"
   ]
  },
  {
   "cell_type": "code",
   "execution_count": null,
   "id": "6112c80c-5faf-4913-b510-a097f2fa2daa",
   "metadata": {},
   "outputs": [],
   "source": []
  }
 ],
 "metadata": {
  "kernelspec": {
   "display_name": "Python 3",
   "language": "python",
   "name": "python3"
  },
  "language_info": {
   "codemirror_mode": {
    "name": "ipython",
    "version": 3
   },
   "file_extension": ".py",
   "mimetype": "text/x-python",
   "name": "python",
   "nbconvert_exporter": "python",
   "pygments_lexer": "ipython3",
   "version": "3.8.5"
  }
 },
 "nbformat": 4,
 "nbformat_minor": 5
}
